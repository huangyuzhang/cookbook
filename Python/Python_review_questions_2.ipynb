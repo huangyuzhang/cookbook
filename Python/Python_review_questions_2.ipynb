{
 "cells": [
  {
   "cell_type": "code",
   "execution_count": 57,
   "metadata": {},
   "outputs": [
    {
     "name": "stdout",
     "output_type": "stream",
     "text": [
      "['1', '5', '9']\n",
      "[2, 9, 7]\n"
     ]
    }
   ],
   "source": [
    "\"\"\"\n",
    "变更list中的数据类型\n",
    "\"\"\"\n",
    "a = [1,5,9]\n",
    "b = ['2','9','7']\n",
    "a_str = list(map(str,a)) # 变为 str\n",
    "b_int = list(map(int,b)) # 变为 int\n",
    "\n",
    "print(a_str)\n",
    "print(b_int)"
   ]
  },
  {
   "cell_type": "code",
   "execution_count": 59,
   "metadata": {},
   "outputs": [
    {
     "name": "stdout",
     "output_type": "stream",
     "text": [
      "45 60\n",
      "[45, 60]\n"
     ]
    }
   ],
   "source": [
    "\"\"\"\n",
    "输入数据以空格分隔，转换为list，注意list中的数据类型需为int\n",
    "e.g.: 45 60 -> [45,60]\n",
    "\"\"\"\n",
    "raw_input = input('')\n",
    "raw_list = raw_input.split(' ') # 指定分隔符\n",
    "raw_list = list(map(int,raw_list)) # 变更list中数据类型\n",
    "print(raw_list)"
   ]
  },
  {
   "cell_type": "code",
   "execution_count": 54,
   "metadata": {},
   "outputs": [
    {
     "name": "stdout",
     "output_type": "stream",
     "text": [
      "(1, 3, 4, 5, 'abc') \n",
      " <class 'tuple'>\n",
      "[1, 3, 4, 5, 'abc'] \n",
      " <class 'list'>\n"
     ]
    }
   ],
   "source": [
    "\"\"\"\n",
    "Python 中进行list和tuple的转换\n",
    "\"\"\"\n",
    "a = [1,3,4,5,\"abc\"]\n",
    "b = tuple(a) # list -> tuple\n",
    "c = list(b) # tuple -> list\n",
    "print(b,\"\\n\",type(b))\n",
    "print(c,\"\\n\",type(c))"
   ]
  },
  {
   "cell_type": "code",
   "execution_count": 23,
   "metadata": {},
   "outputs": [
    {
     "name": "stdout",
     "output_type": "stream",
     "text": [
      "81 4\n",
      "94.73\n"
     ]
    }
   ],
   "source": [
    "\"\"\"\n",
    "数列的定义如下： 数列的第一项为n，以后各项为前一项的平方根，求数列的前m项的和\n",
    "\n",
    "输入数据有多组，每组占一行，由两个整数n（n<10000）和m(m<1000)组成，n和m的含义如前所述。\n",
    "\n",
    "对于每组输入数据，输出该数列的和，每个测试实例占一行，要求精度保留2位小数。\n",
    "\n",
    "样例输入\n",
    "81 4\n",
    "2 2\n",
    "\n",
    "样例输出\n",
    "94.73\n",
    "3.41\n",
    "\"\"\"\n",
    "raw = input('')\n",
    "nm = list(map(int, raw.split(' ')))\n",
    "sum = 0\n",
    "if nm[0] < 10000 and nm[1] < 1000:\n",
    "    for i in range(nm[1]):\n",
    "        x = nm[0]**((0.5)**i)\n",
    "        sum += x\n",
    "    print(round(sum,2))\n",
    "else:\n",
    "    print(\"null\")"
   ]
  },
  {
   "cell_type": "code",
   "execution_count": 48,
   "metadata": {},
   "outputs": [
    {
     "name": "stdout",
     "output_type": "stream",
     "text": [
      "300 380\n",
      "370 371\n"
     ]
    }
   ],
   "source": [
    "\"\"\"\n",
    "水仙花数”是指一个三位数，它的各位数字的立方和等于其本身，比如：153=1^3+5^3+3^3。 现在要求输出所有在m和n范围内的水仙花数。\n",
    " \n",
    "输入\n",
    "输入数据有多组，每组占一行，包括两个整数m和n（100<=m<=n<=999）。\n",
    "\n",
    "输出\n",
    "对于每个测试实例，要求输出所有在给定范围内的水仙花数，就是说，输出的水仙花数必须大于等于m,并且小于等于n。\n",
    "如果有多个，则要求从小到大排列在一行内输出，之间用一个空格隔开; 如果给定的范围内不存在水仙花数，则输出no; 每个测试实例的输出占一行。\n",
    "\n",
    "\n",
    "样例输入\n",
    "100 120\n",
    "300 380\n",
    "\n",
    "样例输出\n",
    "no\n",
    "370 371\n",
    "\"\"\"\n",
    "raw = input('')\n",
    "mn = list(map(int,raw.split(' ')))\n",
    "result = []\n",
    "if mn[0] >= 100 and mn[0] <= mn[1] and mn[1] <= 999:\n",
    "    for i in range(mn[0],mn[1]):\n",
    "        a = int(str(i)[0])\n",
    "        b = int(str(i)[1])\n",
    "        c = int(str(i)[2])\n",
    "        if i == a**3 + b**3 + c**3:\n",
    "            result.append(i)\n",
    "    if len(result) ==0:\n",
    "        print(\"no\")\n",
    "    else:\n",
    "        output = \" \".join(list(map(str,result)))\n",
    "        print(output)\n",
    "else:\n",
    "    print(\"input error\")"
   ]
  },
  {
   "cell_type": "code",
   "execution_count": null,
   "metadata": {},
   "outputs": [],
   "source": []
  }
 ],
 "metadata": {
  "kernelspec": {
   "display_name": "Python 3",
   "language": "python",
   "name": "python3"
  },
  "language_info": {
   "codemirror_mode": {
    "name": "ipython",
    "version": 3
   },
   "file_extension": ".py",
   "mimetype": "text/x-python",
   "name": "python",
   "nbconvert_exporter": "python",
   "pygments_lexer": "ipython3",
   "version": "3.7.1"
  }
 },
 "nbformat": 4,
 "nbformat_minor": 2
}

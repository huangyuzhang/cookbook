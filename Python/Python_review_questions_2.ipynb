{
 "cells": [
  {
   "cell_type": "code",
   "execution_count": 57,
   "metadata": {},
   "outputs": [
    {
     "name": "stdout",
     "output_type": "stream",
     "text": [
      "['1', '5', '9']\n",
      "[2, 9, 7]\n"
     ]
    }
   ],
   "source": [
    "\"\"\"\n",
    "变更list中的数据类型\n",
    "\"\"\"\n",
    "a = [1,5,9]\n",
    "b = ['2','9','7']\n",
    "a_str = list(map(str,a)) # 变为 str\n",
    "b_int = list(map(int,b)) # 变为 int\n",
    "\n",
    "print(a_str)\n",
    "print(b_int)"
   ]
  },
  {
   "cell_type": "code",
   "execution_count": 59,
   "metadata": {},
   "outputs": [
    {
     "name": "stdout",
     "output_type": "stream",
     "text": [
      "45 60\n",
      "[45, 60]\n"
     ]
    }
   ],
   "source": [
    "\"\"\"\n",
    "输入数据以空格分隔，转换为list，注意list中的数据类型需为int\n",
    "e.g.: 45 60 -> [45,60]\n",
    "\"\"\"\n",
    "raw_input = input('')\n",
    "raw_list = raw_input.split(' ') # 指定分隔符\n",
    "raw_list = list(map(int,raw_list)) # 变更list中数据类型\n",
    "print(raw_list)"
   ]
  },
  {
   "cell_type": "code",
   "execution_count": 54,
   "metadata": {},
   "outputs": [
    {
     "name": "stdout",
     "output_type": "stream",
     "text": [
      "(1, 3, 4, 5, 'abc') \n",
      " <class 'tuple'>\n",
      "[1, 3, 4, 5, 'abc'] \n",
      " <class 'list'>\n"
     ]
    }
   ],
   "source": [
    "\"\"\"\n",
    "Python 中进行list和tuple的转换\n",
    "\"\"\"\n",
    "a = [1,3,4,5,\"abc\"]\n",
    "b = tuple(a) # list -> tuple\n",
    "c = list(b) # tuple -> list\n",
    "print(b,\"\\n\",type(b))\n",
    "print(c,\"\\n\",type(c))"
   ]
  },
  {
   "cell_type": "code",
   "execution_count": 23,
   "metadata": {},
   "outputs": [
    {
     "name": "stdout",
     "output_type": "stream",
     "text": [
      "81 4\n",
      "94.73\n"
     ]
    }
   ],
   "source": [
    "\"\"\"\n",
    "数列的定义如下： 数列的第一项为n，以后各项为前一项的平方根，求数列的前m项的和\n",
    "\n",
    "输入数据有多组，每组占一行，由两个整数n（n<10000）和m(m<1000)组成，n和m的含义如前所述。\n",
    "\n",
    "对于每组输入数据，输出该数列的和，每个测试实例占一行，要求精度保留2位小数。\n",
    "\n",
    "样例输入\n",
    "81 4\n",
    "2 2\n",
    "\n",
    "样例输出\n",
    "94.73\n",
    "3.41\n",
    "\"\"\"\n",
    "raw = input('')\n",
    "nm = list(map(int, raw.split(' ')))\n",
    "sum = 0\n",
    "if nm[0] < 10000 and nm[1] < 1000:\n",
    "    for i in range(nm[1]):\n",
    "        x = nm[0]**((0.5)**i)\n",
    "        sum += x\n",
    "    print(round(sum,2))\n",
    "else:\n",
    "    print(\"null\")"
   ]
  },
  {
   "cell_type": "code",
   "execution_count": 48,
   "metadata": {},
   "outputs": [
    {
     "name": "stdout",
     "output_type": "stream",
     "text": [
      "300 380\n",
      "370 371\n"
     ]
    }
   ],
   "source": [
    "\"\"\"\n",
    "水仙花数”是指一个三位数，它的各位数字的立方和等于其本身，比如：153=1^3+5^3+3^3。 现在要求输出所有在m和n范围内的水仙花数。\n",
    " \n",
    "输入\n",
    "输入数据有多组，每组占一行，包括两个整数m和n（100<=m<=n<=999）。\n",
    "\n",
    "输出\n",
    "对于每个测试实例，要求输出所有在给定范围内的水仙花数，就是说，输出的水仙花数必须大于等于m,并且小于等于n。\n",
    "如果有多个，则要求从小到大排列在一行内输出，之间用一个空格隔开; 如果给定的范围内不存在水仙花数，则输出no; 每个测试实例的输出占一行。\n",
    "\n",
    "\n",
    "样例输入\n",
    "100 120\n",
    "300 380\n",
    "\n",
    "样例输出\n",
    "no\n",
    "370 371\n",
    "\"\"\"\n",
    "raw = input('')\n",
    "mn = list(map(int,raw.split(' ')))\n",
    "result = []\n",
    "if mn[0] >= 100 and mn[0] <= mn[1] and mn[1] <= 999:\n",
    "    for i in range(mn[0],mn[1]):\n",
    "        a = int(str(i)[0]) # 只有str可以切片，因此需先把数转换为str，切片后再转换回int\n",
    "        b = int(str(i)[1])\n",
    "        c = int(str(i)[2])\n",
    "        if i == a**3 + b**3 + c**3:\n",
    "            result.append(i)\n",
    "    if len(result) ==0:\n",
    "        print(\"no\")\n",
    "    else:\n",
    "        output = \" \".join(list(map(str,result)))\n",
    "        print(output)\n",
    "else:\n",
    "    print(\"input error\")"
   ]
  },
  {
   "cell_type": "code",
   "execution_count": 70,
   "metadata": {},
   "outputs": [
    {
     "name": "stdout",
     "output_type": "stream",
     "text": [
      "99 12\n",
      "3\n",
      "396\n"
     ]
    }
   ],
   "source": [
    "\"\"\"\n",
    "同时计算最大公因数和最小公倍数\n",
    "\"\"\"\n",
    "raw = input('')\n",
    "ab = list(map(int,raw.split(' ')))\n",
    "a = ab[0]\n",
    "b = ab[1]\n",
    "while a != 0:\n",
    "    a,b = b % a, a\n",
    "print(b)\n",
    "print(int((ab[0]*ab[1])/b))"
   ]
  },
  {
   "cell_type": "code",
   "execution_count": 77,
   "metadata": {},
   "outputs": [
    {
     "name": "stdout",
     "output_type": "stream",
     "text": [
      "1 6 3\n",
      "5\n"
     ]
    }
   ],
   "source": [
    "\"\"\"\n",
    "你有3个需要完成的任务，完成这3个任务是需要付出代价的。\n",
    "首先，你可以不花任何代价的完成一个任务；然后，在完成了第i个任务之后，你可以花费|Ai - Aj|的代价完成第j个任务。|x|代表x的绝对值。\n",
    "计算出完成所有任务的最小代价。\n",
    "\n",
    "输入描述\n",
    "一行3个整数A1,A2,A3，每个数字之间用一个空格分隔。所有数字都是整数，并且在[1,100]范围内。\n",
    "==========================================================\n",
    "思路：\n",
    "1. 接受输入，转换为list映射int数列并排序，获取三个值a,b,c=大,中,小\n",
    "2. 计算代价：c1=大-中,c2=中-小，总代价=c1+c2\n",
    "\"\"\"\n",
    "raw = input('') # 1 6 3\n",
    "raw_list = list(map(int,raw.split(' ')))\n",
    "raw_list.sort(reverse=True) # [6, 3, 1]\n",
    "a,b,c = raw_list[0],raw_list[1],raw_list[2] # a=6, b=3, c=1\n",
    "cost1 = a - b\n",
    "cost2 = b - c\n",
    "total_cost = cost1 + cost2\n",
    "print(total_cost)"
   ]
  },
  {
   "cell_type": "code",
   "execution_count": 88,
   "metadata": {},
   "outputs": [
    {
     "name": "stdout",
     "output_type": "stream",
     "text": [
      "11\n",
      "3\n"
     ]
    }
   ],
   "source": [
    "\"\"\"\n",
    "小易准备去拜访他的朋友，他的家在0点，但是他的朋友的家在x点(x > 0)，均在一条坐标轴上。\n",
    "小易每一次可以向前走1，2，3，4或者5步。问小易最少走多少次可以到达他的朋友的家。\n",
    "\n",
    "输入描述:\n",
    "一行包含一个数字x(1 <= x <= 1000000)，代表朋友家的位置。\n",
    "\n",
    "样例输入->输出\n",
    "4->1\n",
    "10->2\n",
    "==========================================================\n",
    "思路：\n",
    "1. 接受输入，类型转换为int\n",
    "2. 除以5取整记做前面的步数s\n",
    "3. 除以5区余，若不为0，则步数+1；若为0，则步数为s\n",
    "\"\"\"\n",
    "raw = int(input('')) # 11\n",
    "s = raw // 5 # 2\n",
    "r = raw % 5 # 1\n",
    "if r == 0:\n",
    "    print(s)\n",
    "else:\n",
    "    print(s+1) # 3"
   ]
  },
  {
   "cell_type": "code",
   "execution_count": 105,
   "metadata": {},
   "outputs": [
    {
     "name": "stdout",
     "output_type": "stream",
     "text": [
      "1\n",
      "3 2\n",
      "0 1\n"
     ]
    }
   ],
   "source": [
    "\"\"\"\n",
    "在一条街上有n幢房子，标号从1到n，两个在标号上相差为1的房子视为相邻，这些房子中有k幢房子已有住户。\n",
    "现你准备搬入这条街，你能搬入一幢房子的条件是这幢房子没有人住，与此同时由于你非常热爱与邻居交流，故而你需要你所入住的房子两边上都有住户。\n",
    "现要你求最小的可能符合要求的房子数，以及最大的可能符合要求的房子数。\n",
    "\n",
    "Note: 就样例来说，#代表已有住户，-代表空位，这种情况（###---)，没有满足条件的房子，为最小，故输出0\n",
    "最大的情况为(#-#-#-)，此种情况有二个位置满足条件，为最大，故输出2\n",
    "\n",
    "输入描述:\n",
    "输入的一行为测试用例数t(1 <= t <= 200000)\n",
    "\n",
    "接下来t行，每行含两个整数n和k，(1 <= n <= 1,000,000,000，0 <= k <= n)\n",
    "- n 为访问总数\n",
    "- k 为已住人数\n",
    "\n",
    "输出描述:\n",
    "对于每个用例输出最小的可能数以及最大的可能数\n",
    "==========================================================\n",
    "思路：由于只要输出最小值和最大值，且最小值一定位0，因此只需要考虑最大值，无需考虑中间的排列组合。\n",
    "1. 首先接受输入t\n",
    "2. 在次数t范围内，接收输入 n 和 k （int）\n",
    "3. 如果n<3或者k>=n或k<2(已有住户至少有2户才能有两边邻居)则没有满足条件的情况，打印0\n",
    "4. 否则计算最大情况（n-k或n-1中取最小值）并打印\n",
    "\"\"\"\n",
    "t = int(input().strip())\n",
    "for _ in range(t):\n",
    "    n, k = map(int, input('').strip().split())\n",
    "    if n<3 or k>=n or k<2:\n",
    "        solution = 0\n",
    "    else:\n",
    "        solution = min(n-k,k-1)\n",
    "    print(0, solution)"
   ]
  },
  {
   "cell_type": "code",
   "execution_count": 107,
   "metadata": {},
   "outputs": [
    {
     "name": "stdout",
     "output_type": "stream",
     "text": [
      "5 2\n",
      "3\n",
      "5 2\n"
     ]
    }
   ],
   "source": [
    "\"\"\"\n",
    "节日到啦，牛牛和妞妞邀请了好多客人来家里做客。\n",
    "他们摆出了一座高高的香槟塔，牛牛负责听妞妞指挥，往香槟塔里倒香槟。\n",
    "香槟塔有个很优雅的视觉效果就是如果这一层的香槟满了，就会从边缘处往下一层流去。\n",
    "妞妞会发出两种指令，指令一是往第x层塔内倒体积为v的香槟，指令二是询问第k层塔香槟的体积为多少。\n",
    "告诉你香槟塔每层香槟塔的初始容量，你能帮牛牛快速回答妞妞的询问吗？\n",
    "\n",
    "输入描述:\n",
    "第一行为两个整数n，m。表示香槟塔的总层数和指令条数。\n",
    "第二行为n个整数ai，表示每层香槟塔的初始容量。\n",
    "第三行到第2+m行有两种输入，一种输入是“2 x v”表示往第x层倒入体积为v的香槟；另一种输入是“1 k”表示询问第k层当前有多少香槟。\n",
    "1 <= n, m <= 1000。\n",
    "1 <= n ,m <= 200000，1 <= ai ,v <= 1000000000。\n",
    "\n",
    "\n",
    "输出描述:\n",
    "对于每个询问，输出一个整数，表示第k层香槟的容量。\n",
    "==========================================================\n",
    "思路：\n",
    "1. 接收输入n,m\n",
    "2. 在指令数量范围m内接收输入ai表示每层的初始容量,a用list储存每层容量\n",
    "\"\"\"\n",
    "n,m = [int(i) for i in input().split()]\n",
    "a = list(map(int,input('').split(' '))\n",
    "print(n,m)\n",
    "for _ in range(m):\n",
    "    a"
   ]
  },
  {
   "cell_type": "code",
   "execution_count": 108,
   "metadata": {},
   "outputs": [
    {
     "data": {
      "text/plain": [
       "5"
      ]
     },
     "execution_count": 108,
     "metadata": {},
     "output_type": "execute_result"
    }
   ],
   "source": [
    "\"\"\"\n",
    "小Q是篮球训练队的教练，篮球队新加入了N名队员，第i名队员的篮球水平值为ai。\n",
    "小Q现在要把他们按照以下的要求分为A队和B队进行训练:\n",
    "1、A队的队员水平值之和严格大于B队的队员水平值之和\n",
    "2、对于A队中的任意一名队员，如果把他分配到B队，A队的水平值之和就会严格小于B队的水平值之和。\n",
    "3、每个队员必须要加入一个队伍\n",
    "小Q现在想知道有多少种方案可以按照以上要求完成分队。\n",
    "\n",
    "输入描述:\n",
    "输入包括两行, 输入的第一行为一个正整数n(2 <= N <= 50), 表示队员的数量。\n",
    "第二行包括N个正整数 ai(1 <= ai <= 6 x 104), 表示每名队员的篮球水平值, 以空格分割。\n",
    "\n",
    "输出描述:\n",
    "输出一个正整数, 表示方案数。\n",
    "\n",
    "输入例子1:\n",
    "4\n",
    "5 4 7 6\n",
    "\n",
    "输出例子1:\n",
    "2\n",
    "==========================================================\n",
    "思路：\n",
    "1. 接受输入n为队员数量\n",
    "\"\"\""
   ]
  },
  {
   "cell_type": "code",
   "execution_count": 121,
   "metadata": {},
   "outputs": [
    {
     "name": "stdout",
     "output_type": "stream",
     "text": [
      "[[1. 0. 0. 0. 0.]\n",
      " [0. 0. 1. 0. 0.]\n",
      " [1. 0. 0. 0. 0.]\n",
      " [0. 1. 0. 0. 0.]\n",
      " [0. 1. 0. 0. 0.]\n",
      " [0. 1. 0. 0. 0.]\n",
      " [1. 0. 0. 0. 0.]\n",
      " [0. 0. 0. 0. 1.]\n",
      " [0. 1. 0. 0. 0.]\n",
      " [1. 0. 0. 0. 0.]]\n"
     ]
    }
   ],
   "source": [
    "import numpy as np\n",
    "a = np.repeat(np.arange(5).reshape([1,-1]),10,axis = 0)+10.0\n",
    "b = np.random.randint(5, size= a.shape)\n",
    "c = np.argmin(a*b, axis=1)\n",
    "b = np.zeros(a.shape)\n",
    "b[np.arange(b.shape[0]), c] = 1\n",
    "print(b)"
   ]
  },
  {
   "cell_type": "code",
   "execution_count": 4,
   "metadata": {},
   "outputs": [
    {
     "name": "stdout",
     "output_type": "stream",
     "text": [
      "99\n"
     ]
    }
   ],
   "source": [
    "a = range(100)\n",
    "print(a[2-3])"
   ]
  },
  {
   "cell_type": "code",
   "execution_count": null,
   "metadata": {},
   "outputs": [],
   "source": []
  }
 ],
 "metadata": {
  "kernelspec": {
   "display_name": "Python 3",
   "language": "python",
   "name": "python3"
  },
  "language_info": {
   "codemirror_mode": {
    "name": "ipython",
    "version": 3
   },
   "file_extension": ".py",
   "mimetype": "text/x-python",
   "name": "python",
   "nbconvert_exporter": "python",
   "pygments_lexer": "ipython3",
   "version": "3.7.1"
  }
 },
 "nbformat": 4,
 "nbformat_minor": 2
}

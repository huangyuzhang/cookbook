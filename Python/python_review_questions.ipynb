{
 "cells": [
  {
   "cell_type": "code",
   "execution_count": 1,
   "metadata": {},
   "outputs": [
    {
     "name": "stdout",
     "output_type": "stream",
     "text": [
      "请输入华氏温度: 100\n",
      "37.77777777777778\n"
     ]
    }
   ],
   "source": [
    "\"\"\"\n",
    "华氏转摄氏\n",
    "F = 1.8C + 32\n",
    "\"\"\"\n",
    "\n",
    "\n",
    "def FtoC(F):\n",
    "    C = (F - 32)/1.8\n",
    "    return C\n",
    "\n",
    "F = float(input('请输入华氏温度: '))\n",
    "\n",
    "print(FtoC(F))"
   ]
  },
  {
   "cell_type": "code",
   "execution_count": 2,
   "metadata": {},
   "outputs": [
    {
     "name": "stdout",
     "output_type": "stream",
     "text": [
      "请输入半径: 5\n",
      "周长为31.42，面积为78.54\n"
     ]
    }
   ],
   "source": [
    "\"\"\"\n",
    "输入半径计算圆的周长和面积\n",
    "\"\"\"\n",
    "import math\n",
    "\n",
    "def cal_panda(radius):\n",
    "    perimeter = 2 * math.pi * radius\n",
    "    area = math.pi * radius ** 2\n",
    "    return perimeter, area\n",
    "\n",
    "r = float(input('请输入半径: '))\n",
    "\n",
    "perimeter, area = cal_panda(r)\n",
    "print(\"周长为%.2f，面积为%.2f\" % (perimeter,area))\n"
   ]
  },
  {
   "cell_type": "code",
   "execution_count": 3,
   "metadata": {},
   "outputs": [
    {
     "name": "stdout",
     "output_type": "stream",
     "text": [
      "请输入年份：2016\n",
      "闰年\n"
     ]
    }
   ],
   "source": [
    "\"\"\"\n",
    "输入年份 如果是闰年输出True 否则输出False\n",
    "闰年条件：4年润，百年不润，四百年再润\n",
    "\"\"\"\n",
    "def is_leap_year(year):\n",
    "    if (year % 4 == 0) and (year % 100 != 0) or (year % 400 == 0):\n",
    "        return \"闰年\"\n",
    "    else:\n",
    "        return \"非闰年\"\n",
    "\n",
    "year = int(input('请输入年份：'))\n",
    "\n",
    "print(is_leap_year(year))"
   ]
  },
  {
   "cell_type": "code",
   "execution_count": 4,
   "metadata": {},
   "outputs": [
    {
     "name": "stdout",
     "output_type": "stream",
     "text": [
      "请输入x值：0.5\n",
      "2.5\n"
     ]
    }
   ],
   "source": [
    "\"\"\"\n",
    "分段函数求值\n",
    "\n",
    "        3x - 5  (x > 1)\n",
    "f(x) =  x + 2   (-1 <= x <= 1)\n",
    "        5x + 3  (x < -1)\n",
    "\n",
    "\"\"\"\n",
    "def cal_fx(x):\n",
    "    if x < -1:\n",
    "        return 5 * x + 3\n",
    "    elif x <= 1:\n",
    "        return x + 2\n",
    "    else:\n",
    "        return 3 * x -5\n",
    "\n",
    "x = float(input('请输入x值：'))\n",
    "\n",
    "print(cal_fx(x))"
   ]
  },
  {
   "cell_type": "code",
   "execution_count": 5,
   "metadata": {},
   "outputs": [
    {
     "name": "stdout",
     "output_type": "stream",
     "text": [
      "a = 4\n",
      "b = 6\n",
      "c = 7\n",
      "周长：17.00，面积：11.97654\n"
     ]
    }
   ],
   "source": [
    "\"\"\"\n",
    "判断输入的边长能否构成三角形\n",
    "如果能则计算出三角形的周长和面积\n",
    "*使用海伦公式计算面积\n",
    "\"\"\"\n",
    "import math\n",
    "\n",
    "def cal_triangle(a,b,c):\n",
    "    if (a+b>c) and (b+c>a) and (c+a>b):\n",
    "        perimeter = a+b+c\n",
    "        p = perimeter/2\n",
    "        area = math.sqrt(p*(p-a)*(p-b)*(p-c))\n",
    "        return (\"周长：%.2f，面积：%.5f\") % (perimeter,area)\n",
    "    else:\n",
    "        return \"不是三角形\"\n",
    "\n",
    "a = float(input('a = '))\n",
    "b = float(input('b = '))\n",
    "c = float(input('c = '))\n",
    "\n",
    "\n",
    "print(cal_triangle(a,b,c))\n"
   ]
  },
  {
   "cell_type": "code",
   "execution_count": 6,
   "metadata": {},
   "outputs": [
    {
     "name": "stdout",
     "output_type": "stream",
     "text": [
      "请猜数字：50\n",
      "小了\n",
      "请猜数字：75\n",
      "小了\n",
      "请猜数字：88\n",
      "大了\n",
      "请猜数字：81\n",
      "小了\n",
      "请猜数字：84\n",
      "小了\n",
      "请猜数字：86\n",
      "猜对了\n",
      "你总共猜了6次\n"
     ]
    },
    {
     "data": {
      "text/plain": [
       "'\\n说明： 上面的代码中使用了break关键字来提前终止循环，需要注意的是\\nbreak只能终止它所在的那个循环，这一点在使用嵌套的循环结构（下面会\\n讲到）需要引起注意。除了break之外，还有另一个关键字是continue，\\n它可以用来放弃本次循环后续的代码直接让循环进入下一轮。\\n'"
      ]
     },
     "execution_count": 6,
     "metadata": {},
     "output_type": "execute_result"
    }
   ],
   "source": [
    "\"\"\"\n",
    "猜数字游戏\n",
    "计算机出一个1~100之间的随机数由人来猜\n",
    "计算机根据人猜的数字分别给出提示大一点/小一点/猜对了\n",
    "\"\"\"\n",
    "from random import randint\n",
    "number = randint(1,100)\n",
    "count = 0\n",
    "while True:\n",
    "    count += 1\n",
    "    guess = int(input('请猜数字：'))\n",
    "    if guess < number:\n",
    "        print(\"小了\")\n",
    "    elif guess > number:\n",
    "        print(\"大了\")\n",
    "    else:\n",
    "        print(\"猜对了\")\n",
    "        break\n",
    "print('你总共猜了%d次' % count)\n",
    "if count > 7:\n",
    "    print(\"居然要猜这么多次啊？！\")\n",
    "\n",
    "\"\"\"\n",
    "说明： 上面的代码中使用了break关键字来提前终止循环，需要注意的是\n",
    "break只能终止它所在的那个循环，这一点在使用嵌套的循环结构（下面会\n",
    "讲到）需要引起注意。除了break之外，还有另一个关键字是continue，\n",
    "它可以用来放弃本次循环后续的代码直接让循环进入下一轮。\n",
    "\"\"\""
   ]
  },
  {
   "cell_type": "code",
   "execution_count": 7,
   "metadata": {},
   "outputs": [
    {
     "name": "stdout",
     "output_type": "stream",
     "text": [
      "1*1=1\t\n",
      "1*2=2\t2*2=4\t\n",
      "1*3=3\t2*3=6\t3*3=9\t\n",
      "1*4=4\t2*4=8\t3*4=12\t4*4=16\t\n",
      "1*5=5\t2*5=10\t3*5=15\t4*5=20\t5*5=25\t\n",
      "1*6=6\t2*6=12\t3*6=18\t4*6=24\t5*6=30\t6*6=36\t\n",
      "1*7=7\t2*7=14\t3*7=21\t4*7=28\t5*7=35\t6*7=42\t7*7=49\t\n",
      "1*8=8\t2*8=16\t3*8=24\t4*8=32\t5*8=40\t6*8=48\t7*8=56\t8*8=64\t\n",
      "1*9=9\t2*9=18\t3*9=27\t4*9=36\t5*9=45\t6*9=54\t7*9=63\t8*9=72\t9*9=81\t\n"
     ]
    }
   ],
   "source": [
    "\"\"\"\n",
    "输出乘法口诀表(九九表)\n",
    "\"\"\"\n",
    "\n",
    "for i in range(1, 10):\n",
    "    for j in range(1, i + 1):\n",
    "        print('%d*%d=%d' % (j, i, i * j), end='\\t')\n",
    "    print()"
   ]
  },
  {
   "cell_type": "code",
   "execution_count": 8,
   "metadata": {},
   "outputs": [
    {
     "name": "stdout",
     "output_type": "stream",
     "text": [
      "请输入整数：41\n",
      "素数\n"
     ]
    }
   ],
   "source": [
    "\"\"\"\n",
    "输入一个正整数判断它是不是素数\n",
    "素数定义：只可被1和自身整除\n",
    "\"\"\"\n",
    "def is_prime(number):\n",
    "    if number == 1:\n",
    "        return \"1既不是素数也不是合数\"\n",
    "    else:\n",
    "        for i in range(2,number+1):\n",
    "            if number % i == 0:\n",
    "                return \"合数\"\n",
    "                break\n",
    "            else:\n",
    "                return \"素数\"\n",
    "\n",
    "number = int(input('请输入整数：'))   \n",
    "print(is_prime(number))"
   ]
  },
  {
   "cell_type": "code",
   "execution_count": 9,
   "metadata": {},
   "outputs": [
    {
     "name": "stdout",
     "output_type": "stream",
     "text": [
      "[2, 3, 5, 7, 11, 13, 17, 19, 23, 29, 31, 37, 41, 43, 47, 53, 59, 61, 67, 71, 73, 79, 83, 89, 97]\n",
      "100中共有25个素数\n"
     ]
    }
   ],
   "source": [
    "\"\"\"\n",
    "列出100以内所有的素数\n",
    "并求打印出数量\n",
    "素数定义：只可被1和自身整除\n",
    "\"\"\"\n",
    "prime=[];\n",
    "i=2\n",
    "# 两次for循环，第一次选择数字i，第二次计算从2到i是否有因数\n",
    "for i in range(2,100):\n",
    "    j=2\n",
    "    for j in range(2,i):\n",
    "        if i % j == 0: # 如果有因数则跳过\n",
    "            break\n",
    "    else:\n",
    "        prime.append(i) # 如果遍历了没有因数则加入到list里\n",
    "print(prime)\n",
    "print(\"100中共有%d个素数\" % len(prime))"
   ]
  },
  {
   "cell_type": "code",
   "execution_count": 10,
   "metadata": {},
   "outputs": [
    {
     "name": "stdout",
     "output_type": "stream",
     "text": [
      "13\n"
     ]
    }
   ],
   "source": [
    "\"\"\"\n",
    "用辗转相除法求最大公约数\n",
    "greatest common divisor\n",
    "\"\"\"\n",
    "def gcd(a,b):\n",
    "    while a != 0:\n",
    "        a,b = b % a, a\n",
    "    return b\n",
    "\n",
    "print(gcd(26,13))"
   ]
  },
  {
   "cell_type": "code",
   "execution_count": 11,
   "metadata": {},
   "outputs": [
    {
     "name": "stdout",
     "output_type": "stream",
     "text": [
      "360\n"
     ]
    }
   ],
   "source": [
    "\"\"\"\n",
    "求两个数的最小公倍数 least common multiple\n",
    "*最小公倍数为 a*b/gcd\n",
    "\"\"\"\n",
    "def lcm(a,b):\n",
    "    return int(a * b / gcd(a,b))\n",
    "\n",
    "print(lcm(45,72))"
   ]
  },
  {
   "cell_type": "code",
   "execution_count": 12,
   "metadata": {},
   "outputs": [
    {
     "name": "stdout",
     "output_type": "stream",
     "text": [
      "请输入行数: 5\n",
      "*\n",
      "**\n",
      "***\n",
      "****\n",
      "*****\n",
      "    *\n",
      "   **\n",
      "  ***\n",
      " ****\n",
      "*****\n",
      "    *\n",
      "   ***\n",
      "  *****\n",
      " *******\n",
      "*********\n"
     ]
    }
   ],
   "source": [
    "\"\"\"\n",
    "打印各种三角形图案\n",
    "\n",
    "*\n",
    "**\n",
    "***\n",
    "****\n",
    "*****\n",
    "\n",
    "    *\n",
    "   **\n",
    "  ***\n",
    " ****\n",
    "*****\n",
    "\n",
    "    *\n",
    "   ***\n",
    "  *****\n",
    " *******\n",
    "*********\n",
    "\"\"\"\n",
    "row = int(input('请输入行数: '))\n",
    "for i in range(row):\n",
    "    print(\"*\" * (i+1))\n",
    "for i in range(row):\n",
    "    print(\" \" * (row-i-1) + \"*\" * (i+1))\n",
    "for i in range(row):\n",
    "    print(\" \" * (row-i-1) + \"*\" * (i+1) + \"*\" * (i))"
   ]
  },
  {
   "cell_type": "code",
   "execution_count": 13,
   "metadata": {},
   "outputs": [
    {
     "name": "stdout",
     "output_type": "stream",
     "text": [
      "密码个数：5\n",
      "密码长度：10\n",
      "----------\n",
      "H5jueAcIPp\n",
      "Mu8C672FVK\n",
      "0hR7o6Mg9O\n",
      "y9Xk7sFt0j\n",
      "skmcuZhl9y\n",
      "----------\n"
     ]
    }
   ],
   "source": [
    "\"\"\"\n",
    "生成 count 个 length 位的密码，要求同时包含大写字母、小写字母、数字，以函数模式调用\n",
    "\"\"\"\n",
    "import random,string    #调用random、string模块\n",
    "\n",
    "src_digits = string.digits              #string_数字\n",
    "src_uppercase = string.ascii_uppercase  #string_大写字母\n",
    "src_lowercase = string.ascii_lowercase  #string_小写字母\n",
    "\n",
    "\n",
    "def PassGen(count,length):\n",
    "    print(\"-\"*length)\n",
    "    for i in range(count):\n",
    "\n",
    "        # 随机生成数字、大写字母、小写字母的组成个数（可根据实际需要进行更改）\n",
    "        digits_num = random.randint(1,int(length/2.5))\n",
    "        uppercase_num = random.randint(1,length-digits_num-1)\n",
    "        lowercase_num = length - (digits_num + uppercase_num)\n",
    "\n",
    "        # 生成字符串 （不重复）\n",
    "        password = (random.sample(src_digits,digits_num) + \n",
    "                    random.sample(src_uppercase,uppercase_num) + \n",
    "                    random.sample(src_lowercase,lowercase_num) )\n",
    "\n",
    "        # 生成字符串（可重复）\n",
    "#         password = ([random.choice(src_digits) for _ in range (digits_num)] + \n",
    "#                     [random.choice(src_uppercase) for _ in range (uppercase_num)] +\n",
    "#                     [random.choice(src_lowercase) for _ in range (lowercase_num)] )\n",
    "\n",
    "        # 打乱字符串\n",
    "        random.shuffle(password)\n",
    "\n",
    "        # 列表转字符串\n",
    "        str_password = ''.join(password)\n",
    "        \n",
    "        print(str_password)\n",
    "    print(\"-\"*length)\n",
    "\n",
    "count = int(input(\"密码个数：\"))\n",
    "length = int(input(\"密码长度：\"))\n",
    "PassGen(count,length)\n"
   ]
  }
 ],
 "metadata": {
  "kernelspec": {
   "display_name": "Python 3",
   "language": "python",
   "name": "python3"
  },
  "language_info": {
   "codemirror_mode": {
    "name": "ipython",
    "version": 3
   },
   "file_extension": ".py",
   "mimetype": "text/x-python",
   "name": "python",
   "nbconvert_exporter": "python",
   "pygments_lexer": "ipython3",
   "version": "3.7.1"
  }
 },
 "nbformat": 4,
 "nbformat_minor": 2
}

{
 "cells": [
  {
   "cell_type": "markdown",
   "metadata": {},
   "source": [
    "# Pandas: one_hot"
   ]
  },
  {
   "cell_type": "markdown",
   "metadata": {},
   "source": [
    "To document a type issue in the pandas function one_hot."
   ]
  },
  {
   "cell_type": "code",
   "execution_count": 1,
   "metadata": {},
   "outputs": [
    {
     "name": "stdout",
     "output_type": "stream",
     "text": [
      "[1, 2, 3, 1] \n",
      "\n",
      "1    uint8\n",
      "2    uint8\n",
      "3    uint8\n",
      "dtype: object \n",
      "\n",
      "   1  2  3\n",
      "0  1  0  0\n",
      "1  0  1  0\n",
      "2  0  0  1\n",
      "3  1  0  0 \n",
      "\n",
      "     1    2    3\n",
      "0  255    0    0\n",
      "1    0  255    0\n",
      "2    0    0  255\n",
      "3  255    0    0\n"
     ]
    }
   ],
   "source": [
    "import pandas as pd\n",
    "import numpy as np\n",
    "a = [1, 2, 3, 1]\n",
    "print(a,'\\n')\n",
    "one_hot = pd.get_dummies(a)\n",
    "# one_hot = one_hot.astype('float') # uncomment this line to avoid unit8 type\n",
    "print(one_hot.dtypes,'\\n')\n",
    "print(one_hot,'\\n')\n",
    "print(-one_hot) # this will output 255s"
   ]
  },
  {
   "cell_type": "code",
   "execution_count": 2,
   "metadata": {},
   "outputs": [
    {
     "name": "stdout",
     "output_type": "stream",
     "text": [
      "     1    2    3\n",
      "0  1.0  0.0  0.0\n",
      "1  0.0  1.0  0.0\n",
      "2  0.0  0.0  1.0\n",
      "3  1.0  0.0  0.0 \n",
      "\n",
      "     1    2    3\n",
      "0 -1.0 -0.0 -0.0\n",
      "1 -0.0 -1.0 -0.0\n",
      "2 -0.0 -0.0 -1.0\n",
      "3 -1.0 -0.0 -0.0 \n",
      "\n"
     ]
    }
   ],
   "source": [
    "one_hot = one_hot.astype('float')\n",
    "print(one_hot,'\\n')\n",
    "print(-one_hot,'\\n') # now they become -1.0s"
   ]
  }
 ],
 "metadata": {
  "kernelspec": {
   "display_name": "Python 3",
   "language": "python",
   "name": "python3"
  },
  "language_info": {
   "codemirror_mode": {
    "name": "ipython",
    "version": 3
   },
   "file_extension": ".py",
   "mimetype": "text/x-python",
   "name": "python",
   "nbconvert_exporter": "python",
   "pygments_lexer": "ipython3",
   "version": "3.7.1"
  }
 },
 "nbformat": 4,
 "nbformat_minor": 2
}

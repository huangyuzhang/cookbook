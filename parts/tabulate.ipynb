{
 "cells": [
  {
   "cell_type": "markdown",
   "metadata": {},
   "source": [
    "# Use tabulate to output various table styles"
   ]
  },
  {
   "cell_type": "code",
   "execution_count": 1,
   "metadata": {},
   "outputs": [],
   "source": [
    "from tabulate import tabulate\n",
    "from IPython.display import Markdown, display\n",
    "def printmd(string):\n",
    "    display(Markdown(string))"
   ]
  },
  {
   "cell_type": "code",
   "execution_count": 2,
   "metadata": {
    "scrolled": false
   },
   "outputs": [
    {
     "name": "stdout",
     "output_type": "stream",
     "text": [
      "plain:\n",
      "\n",
      "item      qty\n",
      "spam       42\n",
      "eggs      451\n",
      "bacon       0\n"
     ]
    },
    {
     "data": {
      "text/markdown": [
       "***"
      ],
      "text/plain": [
       "<IPython.core.display.Markdown object>"
      ]
     },
     "metadata": {},
     "output_type": "display_data"
    },
    {
     "name": "stdout",
     "output_type": "stream",
     "text": [
      "simple:\n",
      "\n",
      "item      qty\n",
      "------  -----\n",
      "spam       42\n",
      "eggs      451\n",
      "bacon       0\n"
     ]
    },
    {
     "data": {
      "text/markdown": [
       "***"
      ],
      "text/plain": [
       "<IPython.core.display.Markdown object>"
      ]
     },
     "metadata": {},
     "output_type": "display_data"
    },
    {
     "name": "stdout",
     "output_type": "stream",
     "text": [
      "grid:\n",
      "\n",
      "+--------+-------+\n",
      "| item   |   qty |\n",
      "+========+=======+\n",
      "| spam   |    42 |\n",
      "+--------+-------+\n",
      "| eggs   |   451 |\n",
      "+--------+-------+\n",
      "| bacon  |     0 |\n",
      "+--------+-------+\n"
     ]
    },
    {
     "data": {
      "text/markdown": [
       "***"
      ],
      "text/plain": [
       "<IPython.core.display.Markdown object>"
      ]
     },
     "metadata": {},
     "output_type": "display_data"
    },
    {
     "name": "stdout",
     "output_type": "stream",
     "text": [
      "fancy_grid:\n",
      "\n",
      "╒════════╤═══════╕\n",
      "│ item   │   qty │\n",
      "╞════════╪═══════╡\n",
      "│ spam   │    42 │\n",
      "├────────┼───────┤\n",
      "│ eggs   │   451 │\n",
      "├────────┼───────┤\n",
      "│ bacon  │     0 │\n",
      "╘════════╧═══════╛\n"
     ]
    },
    {
     "data": {
      "text/markdown": [
       "***"
      ],
      "text/plain": [
       "<IPython.core.display.Markdown object>"
      ]
     },
     "metadata": {},
     "output_type": "display_data"
    },
    {
     "name": "stdout",
     "output_type": "stream",
     "text": [
      "pipe:\n",
      "\n",
      "| item   |   qty |\n",
      "|:-------|------:|\n",
      "| spam   |    42 |\n",
      "| eggs   |   451 |\n",
      "| bacon  |     0 |\n"
     ]
    },
    {
     "data": {
      "text/markdown": [
       "***"
      ],
      "text/plain": [
       "<IPython.core.display.Markdown object>"
      ]
     },
     "metadata": {},
     "output_type": "display_data"
    },
    {
     "name": "stdout",
     "output_type": "stream",
     "text": [
      "orgtbl:\n",
      "\n",
      "| item   |   qty |\n",
      "|--------+-------|\n",
      "| spam   |    42 |\n",
      "| eggs   |   451 |\n",
      "| bacon  |     0 |\n"
     ]
    },
    {
     "data": {
      "text/markdown": [
       "***"
      ],
      "text/plain": [
       "<IPython.core.display.Markdown object>"
      ]
     },
     "metadata": {},
     "output_type": "display_data"
    },
    {
     "name": "stdout",
     "output_type": "stream",
     "text": [
      "jira:\n",
      "\n",
      "|| item   ||   qty ||\n",
      "| spam   |    42 |\n",
      "| eggs   |   451 |\n",
      "| bacon  |     0 |\n"
     ]
    },
    {
     "data": {
      "text/markdown": [
       "***"
      ],
      "text/plain": [
       "<IPython.core.display.Markdown object>"
      ]
     },
     "metadata": {},
     "output_type": "display_data"
    },
    {
     "name": "stdout",
     "output_type": "stream",
     "text": [
      "psql:\n",
      "\n",
      "+--------+-------+\n",
      "| item   |   qty |\n",
      "|--------+-------|\n",
      "| spam   |    42 |\n",
      "| eggs   |   451 |\n",
      "| bacon  |     0 |\n",
      "+--------+-------+\n"
     ]
    },
    {
     "data": {
      "text/markdown": [
       "***"
      ],
      "text/plain": [
       "<IPython.core.display.Markdown object>"
      ]
     },
     "metadata": {},
     "output_type": "display_data"
    },
    {
     "name": "stdout",
     "output_type": "stream",
     "text": [
      "rst:\n",
      "\n",
      "======  =====\n",
      "item      qty\n",
      "======  =====\n",
      "spam       42\n",
      "eggs      451\n",
      "bacon       0\n",
      "======  =====\n"
     ]
    },
    {
     "data": {
      "text/markdown": [
       "***"
      ],
      "text/plain": [
       "<IPython.core.display.Markdown object>"
      ]
     },
     "metadata": {},
     "output_type": "display_data"
    },
    {
     "name": "stdout",
     "output_type": "stream",
     "text": [
      "mediawiki:\n",
      "\n",
      "{| class=\"wikitable\" style=\"text-align: left;\"\n",
      "|+ <!-- caption -->\n",
      "|-\n",
      "! item   !! align=\"right\"|   qty\n",
      "|-\n",
      "| spam   || align=\"right\"|    42\n",
      "|-\n",
      "| eggs   || align=\"right\"|   451\n",
      "|-\n",
      "| bacon  || align=\"right\"|     0\n",
      "|}\n"
     ]
    },
    {
     "data": {
      "text/markdown": [
       "***"
      ],
      "text/plain": [
       "<IPython.core.display.Markdown object>"
      ]
     },
     "metadata": {},
     "output_type": "display_data"
    },
    {
     "name": "stdout",
     "output_type": "stream",
     "text": [
      "moinmoin:\n",
      "\n",
      "|| ''' item   ''' ||<style=\"text-align: right;\"> '''   qty ''' ||\n",
      "||  spam    ||<style=\"text-align: right;\">     42  ||\n",
      "||  eggs    ||<style=\"text-align: right;\">    451  ||\n",
      "||  bacon   ||<style=\"text-align: right;\">      0  ||\n"
     ]
    },
    {
     "data": {
      "text/markdown": [
       "***"
      ],
      "text/plain": [
       "<IPython.core.display.Markdown object>"
      ]
     },
     "metadata": {},
     "output_type": "display_data"
    },
    {
     "name": "stdout",
     "output_type": "stream",
     "text": [
      "html:\n",
      "\n",
      "<table>\n",
      "<thead>\n",
      "<tr><th>item  </th><th style=\"text-align: right;\">  qty</th></tr>\n",
      "</thead>\n",
      "<tbody>\n",
      "<tr><td>spam  </td><td style=\"text-align: right;\">   42</td></tr>\n",
      "<tr><td>eggs  </td><td style=\"text-align: right;\">  451</td></tr>\n",
      "<tr><td>bacon </td><td style=\"text-align: right;\">    0</td></tr>\n",
      "</tbody>\n",
      "</table>\n"
     ]
    },
    {
     "data": {
      "text/markdown": [
       "***"
      ],
      "text/plain": [
       "<IPython.core.display.Markdown object>"
      ]
     },
     "metadata": {},
     "output_type": "display_data"
    },
    {
     "name": "stdout",
     "output_type": "stream",
     "text": [
      "latex:\n",
      "\n",
      "\\begin{tabular}{lr}\n",
      "\\hline\n",
      " item   &   qty \\\\\n",
      "\\hline\n",
      " spam   &    42 \\\\\n",
      " eggs   &   451 \\\\\n",
      " bacon  &     0 \\\\\n",
      "\\hline\n",
      "\\end{tabular}\n"
     ]
    },
    {
     "data": {
      "text/markdown": [
       "***"
      ],
      "text/plain": [
       "<IPython.core.display.Markdown object>"
      ]
     },
     "metadata": {},
     "output_type": "display_data"
    },
    {
     "name": "stdout",
     "output_type": "stream",
     "text": [
      "latex_booktabs:\n",
      "\n",
      "\\begin{tabular}{lr}\n",
      "\\toprule\n",
      " item   &   qty \\\\\n",
      "\\midrule\n",
      " spam   &    42 \\\\\n",
      " eggs   &   451 \\\\\n",
      " bacon  &     0 \\\\\n",
      "\\bottomrule\n",
      "\\end{tabular}\n"
     ]
    },
    {
     "data": {
      "text/markdown": [
       "***"
      ],
      "text/plain": [
       "<IPython.core.display.Markdown object>"
      ]
     },
     "metadata": {},
     "output_type": "display_data"
    },
    {
     "name": "stdout",
     "output_type": "stream",
     "text": [
      "textile:\n",
      "\n",
      "|_.  item   |_.   qty |\n",
      "|<. spam    |>.    42 |\n",
      "|<. eggs    |>.   451 |\n",
      "|<. bacon   |>.     0 |\n"
     ]
    },
    {
     "data": {
      "text/markdown": [
       "***"
      ],
      "text/plain": [
       "<IPython.core.display.Markdown object>"
      ]
     },
     "metadata": {},
     "output_type": "display_data"
    }
   ],
   "source": [
    "table = [[\"spam\", 42], [\"eggs\", 451], [\"bacon\", 0]]\n",
    "headers = [\"item\", \"qty\"]\n",
    "\n",
    "fmts = [\"plain\",\n",
    "        \"simple\",\n",
    "        \"grid\",\n",
    "        \"fancy_grid\",\n",
    "        \"pipe\",\n",
    "        \"orgtbl\",\n",
    "        \"jira\",\n",
    "        \"psql\",\n",
    "        \"rst\",\n",
    "        \"mediawiki\",\n",
    "        \"moinmoin\",\n",
    "        \"html\",\n",
    "        \"latex\",\n",
    "        \"latex_booktabs\",\n",
    "        \"textile\"]\n",
    "\n",
    "for fmt in fmts:\n",
    "    print(fmt + ':\\n')\n",
    "    print(tabulate(table, headers, tablefmt=fmt))\n",
    "    printmd('***')"
   ]
  },
  {
   "cell_type": "code",
   "execution_count": 6,
   "metadata": {},
   "outputs": [
    {
     "data": {
      "text/markdown": [
       "| item   |   qty |\n",
       "|:-------|------:|\n",
       "| spam   |    42 |\n",
       "| eggs   |   451 |\n",
       "| bacon  |     0 |"
      ],
      "text/plain": [
       "<IPython.core.display.Markdown object>"
      ]
     },
     "metadata": {},
     "output_type": "display_data"
    }
   ],
   "source": [
    "# pipe is same as the markdown, thus we can print it with printmd\n",
    "# we also need to modify the enter with '\\n'\n",
    "pipe = '| item   |   qty |\\n|:-------|------:|\\n| spam   |    42 |\\n| eggs   |   451 |\\n| bacon  |     0 |'\n",
    "printmd(pipe)"
   ]
  }
 ],
 "metadata": {
  "kernelspec": {
   "display_name": "Python 3",
   "language": "python",
   "name": "python3"
  },
  "language_info": {
   "codemirror_mode": {
    "name": "ipython",
    "version": 3
   },
   "file_extension": ".py",
   "mimetype": "text/x-python",
   "name": "python",
   "nbconvert_exporter": "python",
   "pygments_lexer": "ipython3",
   "version": "3.7.1"
  }
 },
 "nbformat": 4,
 "nbformat_minor": 2
}
